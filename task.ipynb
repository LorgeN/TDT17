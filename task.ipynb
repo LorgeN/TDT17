{
 "cells": [
  {
   "cell_type": "markdown",
   "metadata": {},
   "source": [
    "# TDT17: Key concept (FCNNs): Regularization: Heuristics: Early stopping, Data augmentation, Noise\n",
    "\n",
    "This notebook contains a Given-Find task for the key concept of regularization in deep learning. The task revolves around calculating updated bounding boxes for augmented images.\n",
    "\n",
    "## Task description\n",
    "\n",
    "This task assumes familiarity with the topics at hand and does not go into depth about the theory behind them. We are going to be using the below image of a parking lot, with the bounding boxes of the cars in the image, and calculating the updated bounding boxes for the augmented images. The image is augmented using a few different transforms. The code to apply the transform to the image is provided, and the task is to calculate the updated bounding boxes for the augmented images.\n",
    "\n",
    "![Parking lot with some cars](parking_lot.avif)"
   ]
  }
 ],
 "metadata": {
  "language_info": {
   "name": "python"
  },
  "orig_nbformat": 4
 },
 "nbformat": 4,
 "nbformat_minor": 2
}
